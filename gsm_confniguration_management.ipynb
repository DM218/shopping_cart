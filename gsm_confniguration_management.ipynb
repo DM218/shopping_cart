{
  "nbformat": 4,
  "nbformat_minor": 0,
  "metadata": {
    "colab": {
      "provenance": [],
      "authorship_tag": "ABX9TyPj2e3y4NDOKG0gUz2N38c7",
      "include_colab_link": true
    },
    "kernelspec": {
      "name": "python3",
      "display_name": "Python 3"
    },
    "language_info": {
      "name": "python"
    }
  },
  "cells": [
    {
      "cell_type": "markdown",
      "metadata": {
        "id": "view-in-github",
        "colab_type": "text"
      },
      "source": [
        "<a href=\"https://colab.research.google.com/github/DM218/shopping_cart/blob/main/gsm_confniguration_management.ipynb\" target=\"_parent\"><img src=\"https://colab.research.google.com/assets/colab-badge.svg\" alt=\"Open In Colab\"/></a>"
      ]
    },
    {
      "cell_type": "markdown",
      "source": [
        "**Install Looker SDK**"
      ],
      "metadata": {
        "id": "cY9a94PIRkHT"
      }
    },
    {
      "cell_type": "markdown",
      "source": [
        "Sample script to use Looker SDK to query Looker view file"
      ],
      "metadata": {
        "id": "VPfhpU28zrQy"
      }
    },
    {
      "cell_type": "code",
      "source": [
        "!pip install looker_sdk"
      ],
      "metadata": {
        "colab": {
          "base_uri": "https://localhost:8080/"
        },
        "id": "4mC3JW7WRnNj",
        "outputId": "0b5bb4f0-3c1a-4968-e89f-e65a96d72f07"
      },
      "execution_count": 3,
      "outputs": [
        {
          "output_type": "stream",
          "name": "stdout",
          "text": [
            "Collecting looker_sdk\n",
            "  Downloading looker_sdk-23.16.0-py3-none-any.whl (353 kB)\n",
            "\u001b[2K     \u001b[90m━━━━━━━━━━━━━━━━━━━━━━━━━━━━━━━━━━━━━━━━\u001b[0m \u001b[32m353.4/353.4 kB\u001b[0m \u001b[31m5.6 MB/s\u001b[0m eta \u001b[36m0:00:00\u001b[0m\n",
            "\u001b[?25hRequirement already satisfied: requests>=2.22 in /usr/local/lib/python3.10/dist-packages (from looker_sdk) (2.31.0)\n",
            "Requirement already satisfied: typing-extensions>=4.1.1 in /usr/local/lib/python3.10/dist-packages (from looker_sdk) (4.5.0)\n",
            "Requirement already satisfied: attrs>=20.1.0 in /usr/local/lib/python3.10/dist-packages (from looker_sdk) (23.1.0)\n",
            "Collecting cattrs>=1.3 (from looker_sdk)\n",
            "  Downloading cattrs-23.1.2-py3-none-any.whl (50 kB)\n",
            "\u001b[2K     \u001b[90m━━━━━━━━━━━━━━━━━━━━━━━━━━━━━━━━━━━━━━━━\u001b[0m \u001b[32m50.8/50.8 kB\u001b[0m \u001b[31m4.4 MB/s\u001b[0m eta \u001b[36m0:00:00\u001b[0m\n",
            "\u001b[?25hRequirement already satisfied: exceptiongroup in /usr/local/lib/python3.10/dist-packages (from cattrs>=1.3->looker_sdk) (1.1.3)\n",
            "Requirement already satisfied: charset-normalizer<4,>=2 in /usr/local/lib/python3.10/dist-packages (from requests>=2.22->looker_sdk) (3.3.1)\n",
            "Requirement already satisfied: idna<4,>=2.5 in /usr/local/lib/python3.10/dist-packages (from requests>=2.22->looker_sdk) (3.4)\n",
            "Requirement already satisfied: urllib3<3,>=1.21.1 in /usr/local/lib/python3.10/dist-packages (from requests>=2.22->looker_sdk) (2.0.7)\n",
            "Requirement already satisfied: certifi>=2017.4.17 in /usr/local/lib/python3.10/dist-packages (from requests>=2.22->looker_sdk) (2023.7.22)\n",
            "Installing collected packages: cattrs, looker_sdk\n",
            "Successfully installed cattrs-23.1.2 looker_sdk-23.16.0\n"
          ]
        }
      ]
    },
    {
      "cell_type": "markdown",
      "source": [
        "**Import dependencies**"
      ],
      "metadata": {
        "id": "2QqdxeQDS5LA"
      }
    },
    {
      "cell_type": "code",
      "source": [
        "import looker_sdk\n",
        "from looker_sdk import models as mdls\n",
        "import requests\n",
        "import time\n",
        "import json\n",
        "import os\n",
        "import base64\n",
        "from requests.exceptions import HTTPError"
      ],
      "metadata": {
        "id": "NojUip79RpnB"
      },
      "execution_count": 4,
      "outputs": []
    },
    {
      "cell_type": "markdown",
      "source": [
        "**Configure environment variables for Looker authentication**"
      ],
      "metadata": {
        "id": "VM_h4Q29S7qQ"
      }
    },
    {
      "cell_type": "code",
      "source": [
        "# Set the environment vairables use by the SDK to authenticate to Pord Looker\n",
        "os.environ[\"LOOKERSDK_BASE_URL\"] = \"https://skyfinops.cloud.looker.com:443\" # Update to reference valis Looker instance\n",
        "os.environ[\"LOOKERSDK_CLIENT_ID\"] = \"rTY4xJf5PpgCkrPrTKzM\"  # Add API Client ID\n",
        "os.environ[\"LOOKERSDK_CLIENT_SECRET\"] = \"T7xNGh5ryYBkWtQ2J6JsN6g7\" # Add API Client Secret"
      ],
      "metadata": {
        "id": "pPPqOVXcRrzV"
      },
      "execution_count": 10,
      "outputs": []
    },
    {
      "cell_type": "markdown",
      "source": [
        "**Initialise SDK client and test authenticaion**"
      ],
      "metadata": {
        "id": "4NTHfgpVR-bj"
      }
    },
    {
      "cell_type": "code",
      "source": [
        "sdk = looker_sdk.init40()\n",
        "me = sdk.me(fields=\"email\")\n",
        "print(me.email)"
      ],
      "metadata": {
        "id": "TRkf4nVtTGol",
        "colab": {
          "base_uri": "https://localhost:8080/"
        },
        "outputId": "c35780d9-bbf1-4a35-83ed-9ac436fed283"
      },
      "execution_count": 11,
      "outputs": [
        {
          "output_type": "stream",
          "name": "stdout",
          "text": [
            "gsm-configuration-management@sky.uk\n"
          ]
        }
      ]
    },
    {
      "cell_type": "markdown",
      "source": [
        "**Run Query to get the data from the project_Dept_link**"
      ],
      "metadata": {
        "id": "WM826y3eTvrJ"
      }
    },
    {
      "cell_type": "code",
      "source": [
        "# Build a query to check whether ACL is applying appropriate where condition\n",
        "query = mdls.WriteQuery(\n",
        "    model=\"everyone\",\n",
        "    view=\"project_dept_link\",\n",
        "    fields=[\"project_dept_link.cloud_provider\",\"billing_data_tab.account_id\",\"project_dept_link.project_name\",\"project_dept_link.capitalised\",\"project_dept_link.stopped\",\"project_dept_link.customer_name\",\"project_dept_link.department\"\n",
        "    ,\"project_dept_link.sub_department\",\"project_dept_link.cost_centre\",\"project_dept_link.budget_owner\",\"project_dept_link.finance_contact\",\"project_dept_link.executive_owner\",\"project_dept_link.org\",\"billing_data_tab.territory\",\"billing_data_tab.region\"],\n",
        "    limit=\"100\",\n",
        "    filters={\"project_dept_link.cloud_provider\": \"AWS\",\"billing_data_tab.usage_start_date\": \"last 90 days\"}\n",
        ")\n",
        "\n",
        "# Run the query\n",
        "results = sdk.run_inline_query(result_format='json', body=query)\n",
        "print(type(results))\n",
        "\n",
        "# Extract values for Organisation & Customer Name - This can be extended to include department etc. as appropriate\n",
        "json_obj = json.loads(results)\n",
        "cloud_provider = []\n",
        "organisations = []\n",
        "customers = []\n",
        "department = []\n",
        "project_id = []\n",
        "\n",
        "for obj in json_obj:\n",
        "    print(obj)"
      ],
      "metadata": {
        "id": "ub_XEpSeTsrw",
        "colab": {
          "base_uri": "https://localhost:8080/"
        },
        "outputId": "b6b54caa-a05b-4d1f-be83-7f1b8b02dbae"
      },
      "execution_count": 12,
      "outputs": [
        {
          "output_type": "stream",
          "name": "stdout",
          "text": [
            "<class 'str'>\n",
            "{'project_dept_link.cloud_provider': 'AWS', 'project_dept_link.project_name': 'security', 'project_dept_link.capitalised': 'Yes', 'project_dept_link.stopped': 'Yes', 'project_dept_link.customer_name': 'CEC', 'project_dept_link.department': 'CEC', 'project_dept_link.sub_department': 'CEC', 'project_dept_link.cost_centre': '2002193029', 'project_dept_link.budget_owner': None, 'project_dept_link.finance_contact': None, 'project_dept_link.executive_owner': None, 'project_dept_link.org': 'aws.at.sky'}\n",
            "{'project_dept_link.cloud_provider': 'AWS', 'project_dept_link.project_name': 'AWS Admin', 'project_dept_link.capitalised': 'No', 'project_dept_link.stopped': 'Yes', 'project_dept_link.customer_name': 'Sky DE', 'project_dept_link.department': 'Sky DE', 'project_dept_link.sub_department': 'Sky DE', 'project_dept_link.cost_centre': '5648011565', 'project_dept_link.budget_owner': None, 'project_dept_link.finance_contact': None, 'project_dept_link.executive_owner': None, 'project_dept_link.org': 'Sky Germany'}\n",
            "{'project_dept_link.cloud_provider': 'AWS', 'project_dept_link.project_name': 'AWS Admin', 'project_dept_link.capitalised': 'No', 'project_dept_link.stopped': 'Yes', 'project_dept_link.customer_name': 'Sky DE', 'project_dept_link.department': 'Sky DE', 'project_dept_link.sub_department': 'Sky DE', 'project_dept_link.cost_centre': '5648011565', 'project_dept_link.budget_owner': 'aws-ops-prod@sky.de', 'project_dept_link.finance_contact': None, 'project_dept_link.executive_owner': None, 'project_dept_link.org': 'Sky Germany'}\n",
            "{'project_dept_link.cloud_provider': 'AWS', 'project_dept_link.project_name': 'sandbox01', 'project_dept_link.capitalised': 'Yes', 'project_dept_link.stopped': 'Yes', 'project_dept_link.customer_name': 'CEC', 'project_dept_link.department': 'CEC', 'project_dept_link.sub_department': 'CEC', 'project_dept_link.cost_centre': None, 'project_dept_link.budget_owner': 'aws.sandbox01.dev@service.skytv.it', 'project_dept_link.finance_contact': None, 'project_dept_link.executive_owner': None, 'project_dept_link.org': 'sky-italia-master'}\n",
            "{'project_dept_link.cloud_provider': 'AWS', 'project_dept_link.project_name': 'sandbox02', 'project_dept_link.capitalised': 'Yes', 'project_dept_link.stopped': 'Yes', 'project_dept_link.customer_name': 'CEC', 'project_dept_link.department': 'CEC', 'project_dept_link.sub_department': 'CEC', 'project_dept_link.cost_centre': None, 'project_dept_link.budget_owner': 'aws.sandbox02.dev@service.skytv.it', 'project_dept_link.finance_contact': None, 'project_dept_link.executive_owner': None, 'project_dept_link.org': 'sky-italia-master'}\n",
            "{'project_dept_link.cloud_provider': 'AWS', 'project_dept_link.project_name': 'sandbox02', 'project_dept_link.capitalised': 'Yes', 'project_dept_link.stopped': 'Yes', 'project_dept_link.customer_name': 'CEC', 'project_dept_link.department': 'CEC', 'project_dept_link.sub_department': 'CEC', 'project_dept_link.cost_centre': '2002193029', 'project_dept_link.budget_owner': 'aws.sandbox02.dev@service.skytv.it', 'project_dept_link.finance_contact': None, 'project_dept_link.executive_owner': None, 'project_dept_link.org': 'testaws.at.sky'}\n",
            "{'project_dept_link.cloud_provider': 'AWS', 'project_dept_link.project_name': 'sandbox03', 'project_dept_link.capitalised': 'No', 'project_dept_link.stopped': 'Yes', 'project_dept_link.customer_name': 'CEC', 'project_dept_link.department': 'CEC', 'project_dept_link.sub_department': 'CEC', 'project_dept_link.cost_centre': None, 'project_dept_link.budget_owner': 'aws.sandbox03.dev@service.skytv.it', 'project_dept_link.finance_contact': None, 'project_dept_link.executive_owner': None, 'project_dept_link.org': 'sky-italia-master'}\n",
            "{'project_dept_link.cloud_provider': 'AWS', 'project_dept_link.project_name': 'sandbox03', 'project_dept_link.capitalised': 'No', 'project_dept_link.stopped': 'Yes', 'project_dept_link.customer_name': 'CEC', 'project_dept_link.department': 'CEC', 'project_dept_link.sub_department': 'CEC', 'project_dept_link.cost_centre': 'shared', 'project_dept_link.budget_owner': 'paolo.brandazza@skytv.it', 'project_dept_link.finance_contact': None, 'project_dept_link.executive_owner': None, 'project_dept_link.org': 'aws.at.sky'}\n",
            "{'project_dept_link.cloud_provider': 'AWS', 'project_dept_link.project_name': 'sandbox03', 'project_dept_link.capitalised': 'No', 'project_dept_link.stopped': 'Yes', 'project_dept_link.customer_name': 'CEC', 'project_dept_link.department': 'CEC', 'project_dept_link.sub_department': 'CEC', 'project_dept_link.cost_centre': 'shared', 'project_dept_link.budget_owner': 'aws.sandbox03.dev@service.skytv.it', 'project_dept_link.finance_contact': None, 'project_dept_link.executive_owner': None, 'project_dept_link.org': 'aws.at.sky'}\n",
            "{'project_dept_link.cloud_provider': 'AWS', 'project_dept_link.project_name': 'sandbox04', 'project_dept_link.capitalised': 'No', 'project_dept_link.stopped': 'Yes', 'project_dept_link.customer_name': 'CEC', 'project_dept_link.department': 'CEC', 'project_dept_link.sub_department': 'CEC', 'project_dept_link.cost_centre': 'shared', 'project_dept_link.budget_owner': 'paolo.brandazza@skytv.it', 'project_dept_link.finance_contact': None, 'project_dept_link.executive_owner': None, 'project_dept_link.org': 'aws.at.sky'}\n",
            "{'project_dept_link.cloud_provider': 'AWS', 'project_dept_link.project_name': 'sandbox04', 'project_dept_link.capitalised': 'No', 'project_dept_link.stopped': 'Yes', 'project_dept_link.customer_name': 'CEC', 'project_dept_link.department': 'CEC', 'project_dept_link.sub_department': 'CEC', 'project_dept_link.cost_centre': None, 'project_dept_link.budget_owner': 'aws.sandbox04.dev@service.skytv.it', 'project_dept_link.finance_contact': None, 'project_dept_link.executive_owner': None, 'project_dept_link.org': 'sky-italia-master'}\n",
            "{'project_dept_link.cloud_provider': 'AWS', 'project_dept_link.project_name': 'sandbox05', 'project_dept_link.capitalised': 'No', 'project_dept_link.stopped': 'Yes', 'project_dept_link.customer_name': 'CEC', 'project_dept_link.department': 'CEC', 'project_dept_link.sub_department': 'CEC', 'project_dept_link.cost_centre': None, 'project_dept_link.budget_owner': 'aws.sandbox05.dev@service.skytv.it', 'project_dept_link.finance_contact': None, 'project_dept_link.executive_owner': None, 'project_dept_link.org': 'sky-italia-master'}\n",
            "{'project_dept_link.cloud_provider': 'AWS', 'project_dept_link.project_name': 'sandbox05', 'project_dept_link.capitalised': 'No', 'project_dept_link.stopped': 'Yes', 'project_dept_link.customer_name': 'CEC', 'project_dept_link.department': 'CEC', 'project_dept_link.sub_department': 'CEC', 'project_dept_link.cost_centre': '2002193029', 'project_dept_link.budget_owner': 'aws.sandbox05.dev@service.skytv.it', 'project_dept_link.finance_contact': None, 'project_dept_link.executive_owner': None, 'project_dept_link.org': 'testaws.at.sky'}\n",
            "{'project_dept_link.cloud_provider': 'AWS', 'project_dept_link.project_name': 'sandbox06', 'project_dept_link.capitalised': 'No', 'project_dept_link.stopped': 'Yes', 'project_dept_link.customer_name': 'CEC', 'project_dept_link.department': 'CEC', 'project_dept_link.sub_department': 'CEC', 'project_dept_link.cost_centre': '2002193029', 'project_dept_link.budget_owner': 'aws.sandbox06.dev@service.skytv.it', 'project_dept_link.finance_contact': None, 'project_dept_link.executive_owner': None, 'project_dept_link.org': 'testaws.at.sky'}\n",
            "{'project_dept_link.cloud_provider': 'AWS', 'project_dept_link.project_name': 'sandbox07', 'project_dept_link.capitalised': 'No', 'project_dept_link.stopped': 'Yes', 'project_dept_link.customer_name': 'CEC', 'project_dept_link.department': 'CEC', 'project_dept_link.sub_department': 'CEC', 'project_dept_link.cost_centre': '2002193029', 'project_dept_link.budget_owner': 'aws.sandbox07.dev@service.skytv.it', 'project_dept_link.finance_contact': None, 'project_dept_link.executive_owner': None, 'project_dept_link.org': 'testaws.at.sky'}\n",
            "{'project_dept_link.cloud_provider': 'AWS', 'project_dept_link.project_name': 'sandbox08', 'project_dept_link.capitalised': 'No', 'project_dept_link.stopped': 'Yes', 'project_dept_link.customer_name': 'CEC', 'project_dept_link.department': 'CEC', 'project_dept_link.sub_department': 'CEC', 'project_dept_link.cost_centre': '2002193029', 'project_dept_link.budget_owner': 'aws.sandbox08.dev@service.skytv.it', 'project_dept_link.finance_contact': None, 'project_dept_link.executive_owner': None, 'project_dept_link.org': 'testaws.at.sky'}\n",
            "{'project_dept_link.cloud_provider': 'AWS', 'project_dept_link.project_name': 'sandbox09', 'project_dept_link.capitalised': 'No', 'project_dept_link.stopped': 'Yes', 'project_dept_link.customer_name': 'CEC', 'project_dept_link.department': 'CEC', 'project_dept_link.sub_department': 'CEC', 'project_dept_link.cost_centre': '2002193029', 'project_dept_link.budget_owner': 'aws.sandbox09.dev@service.skytv.it', 'project_dept_link.finance_contact': None, 'project_dept_link.executive_owner': None, 'project_dept_link.org': 'testaws.at.sky'}\n",
            "{'project_dept_link.cloud_provider': 'AWS', 'project_dept_link.project_name': 'sandbox10', 'project_dept_link.capitalised': 'No', 'project_dept_link.stopped': 'Yes', 'project_dept_link.customer_name': 'CEC', 'project_dept_link.department': 'CEC', 'project_dept_link.sub_department': 'CEC', 'project_dept_link.cost_centre': None, 'project_dept_link.budget_owner': 'aws.sandbox10.dev@service.skytv.it', 'project_dept_link.finance_contact': None, 'project_dept_link.executive_owner': None, 'project_dept_link.org': 'sky-italia-master'}\n",
            "{'project_dept_link.cloud_provider': 'AWS', 'project_dept_link.project_name': 'sandbox10', 'project_dept_link.capitalised': 'No', 'project_dept_link.stopped': 'Yes', 'project_dept_link.customer_name': 'CEC', 'project_dept_link.department': 'CEC', 'project_dept_link.sub_department': 'CEC', 'project_dept_link.cost_centre': '2002193029', 'project_dept_link.budget_owner': 'aws.sandbox10.dev@service.skytv.it', 'project_dept_link.finance_contact': None, 'project_dept_link.executive_owner': None, 'project_dept_link.org': 'testaws.at.sky'}\n",
            "{'project_dept_link.cloud_provider': 'AWS', 'project_dept_link.project_name': 'apcawstest', 'project_dept_link.capitalised': 'No', 'project_dept_link.stopped': 'No', 'project_dept_link.customer_name': 'CEC', 'project_dept_link.department': 'CEC', 'project_dept_link.sub_department': 'CEC', 'project_dept_link.cost_centre': '2002193029', 'project_dept_link.budget_owner': None, 'project_dept_link.finance_contact': None, 'project_dept_link.executive_owner': None, 'project_dept_link.org': 'aws.at.sky'}\n",
            "{'project_dept_link.cloud_provider': 'AWS', 'project_dept_link.project_name': 'apcawstest', 'project_dept_link.capitalised': 'No', 'project_dept_link.stopped': 'No', 'project_dept_link.customer_name': 'CEC', 'project_dept_link.department': 'CEC', 'project_dept_link.sub_department': 'CEC', 'project_dept_link.cost_centre': '2002193029', 'project_dept_link.budget_owner': 'apcawstest@skyglobal.onmicrosoft.com', 'project_dept_link.finance_contact': None, 'project_dept_link.executive_owner': None, 'project_dept_link.org': 'aws.at.sky'}\n",
            "{'project_dept_link.cloud_provider': 'AWS', 'project_dept_link.project_name': 'aws.at.sky', 'project_dept_link.capitalised': 'No', 'project_dept_link.stopped': 'Yes', 'project_dept_link.customer_name': 'CEC', 'project_dept_link.department': 'CEC', 'project_dept_link.sub_department': 'CEC', 'project_dept_link.cost_centre': '2002193029', 'project_dept_link.budget_owner': 'DL-CEC-SkyAWSMasterPayer@sky.uk', 'project_dept_link.finance_contact': None, 'project_dept_link.executive_owner': None, 'project_dept_link.org': 'aws.at.sky'}\n",
            "{'project_dept_link.cloud_provider': 'AWS', 'project_dept_link.project_name': 'aws.at.sky', 'project_dept_link.capitalised': 'No', 'project_dept_link.stopped': 'Yes', 'project_dept_link.customer_name': 'CEC', 'project_dept_link.department': 'CEC', 'project_dept_link.sub_department': 'CEC', 'project_dept_link.cost_centre': '2002193029', 'project_dept_link.budget_owner': None, 'project_dept_link.finance_contact': None, 'project_dept_link.executive_owner': None, 'project_dept_link.org': 'aws.at.sky'}\n",
            "{'project_dept_link.cloud_provider': 'AWS', 'project_dept_link.project_name': 'deployment', 'project_dept_link.capitalised': 'Yes', 'project_dept_link.stopped': 'Yes', 'project_dept_link.customer_name': 'CEC', 'project_dept_link.department': 'CEC', 'project_dept_link.sub_department': 'CEC', 'project_dept_link.cost_centre': '2002193029', 'project_dept_link.budget_owner': 'DL-CEC-Deployment-Test@Sky.uk', 'project_dept_link.finance_contact': None, 'project_dept_link.executive_owner': None, 'project_dept_link.org': 'testaws.at.sky'}\n",
            "{'project_dept_link.cloud_provider': 'AWS', 'project_dept_link.project_name': 'deployment', 'project_dept_link.capitalised': 'Yes', 'project_dept_link.stopped': 'Yes', 'project_dept_link.customer_name': 'CEC', 'project_dept_link.department': 'CEC', 'project_dept_link.sub_department': 'CEC', 'project_dept_link.cost_centre': '2002193029', 'project_dept_link.budget_owner': None, 'project_dept_link.finance_contact': None, 'project_dept_link.executive_owner': None, 'project_dept_link.org': 'testaws.at.sky'}\n",
            "{'project_dept_link.cloud_provider': 'AWS', 'project_dept_link.project_name': 'deployment', 'project_dept_link.capitalised': 'Yes', 'project_dept_link.stopped': 'Yes', 'project_dept_link.customer_name': 'CEC', 'project_dept_link.department': 'CEC', 'project_dept_link.sub_department': 'CEC', 'project_dept_link.cost_centre': None, 'project_dept_link.budget_owner': None, 'project_dept_link.finance_contact': None, 'project_dept_link.executive_owner': None, 'project_dept_link.org': 'testaws.at.sky'}\n",
            "{'project_dept_link.cloud_provider': 'AWS', 'project_dept_link.project_name': 'networking', 'project_dept_link.capitalised': 'No', 'project_dept_link.stopped': 'Yes', 'project_dept_link.customer_name': 'CEC', 'project_dept_link.department': 'CEC', 'project_dept_link.sub_department': 'CEC', 'project_dept_link.cost_centre': '2002193029', 'project_dept_link.budget_owner': 'DL-SkyAWSNetworking@sky.uk', 'project_dept_link.finance_contact': None, 'project_dept_link.executive_owner': None, 'project_dept_link.org': 'aws.at.sky'}\n",
            "{'project_dept_link.cloud_provider': 'AWS', 'project_dept_link.project_name': 'networking', 'project_dept_link.capitalised': 'No', 'project_dept_link.stopped': 'Yes', 'project_dept_link.customer_name': 'CEC', 'project_dept_link.department': 'CEC', 'project_dept_link.sub_department': 'CEC', 'project_dept_link.cost_centre': '2002193029', 'project_dept_link.budget_owner': None, 'project_dept_link.finance_contact': None, 'project_dept_link.executive_owner': None, 'project_dept_link.org': 'aws.at.sky'}\n",
            "{'project_dept_link.cloud_provider': 'AWS', 'project_dept_link.project_name': 'Sky Germany', 'project_dept_link.capitalised': 'No', 'project_dept_link.stopped': 'Yes', 'project_dept_link.customer_name': 'Sky DE', 'project_dept_link.department': 'Sky DE', 'project_dept_link.sub_department': 'Sky DE', 'project_dept_link.cost_centre': None, 'project_dept_link.budget_owner': None, 'project_dept_link.finance_contact': None, 'project_dept_link.executive_owner': None, 'project_dept_link.org': 'Sky Germany'}\n",
            "{'project_dept_link.cloud_provider': 'AWS', 'project_dept_link.project_name': 'Sky Germany', 'project_dept_link.capitalised': 'No', 'project_dept_link.stopped': 'Yes', 'project_dept_link.customer_name': 'Sky DE', 'project_dept_link.department': 'Sky DE', 'project_dept_link.sub_department': 'Sky DE', 'project_dept_link.cost_centre': '5648011565', 'project_dept_link.budget_owner': 'sw-licenses@sky.de', 'project_dept_link.finance_contact': None, 'project_dept_link.executive_owner': None, 'project_dept_link.org': 'Sky Germany'}\n",
            "{'project_dept_link.cloud_provider': 'AWS', 'project_dept_link.project_name': 'Sky Germany', 'project_dept_link.capitalised': 'No', 'project_dept_link.stopped': 'Yes', 'project_dept_link.customer_name': 'Sky DE', 'project_dept_link.department': 'Sky DE', 'project_dept_link.sub_department': 'Sky DE', 'project_dept_link.cost_centre': '5648011565', 'project_dept_link.budget_owner': None, 'project_dept_link.finance_contact': None, 'project_dept_link.executive_owner': None, 'project_dept_link.org': 'Sky Germany'}\n",
            "{'project_dept_link.cloud_provider': 'AWS', 'project_dept_link.project_name': 'log-archive', 'project_dept_link.capitalised': 'No', 'project_dept_link.stopped': 'Yes', 'project_dept_link.customer_name': 'CEC', 'project_dept_link.department': 'CEC', 'project_dept_link.sub_department': 'CEC', 'project_dept_link.cost_centre': '2002193029', 'project_dept_link.budget_owner': 'DL-CEC-SkyTestAWSLogging@sky.uk', 'project_dept_link.finance_contact': None, 'project_dept_link.executive_owner': None, 'project_dept_link.org': 'testaws.at.sky'}\n",
            "{'project_dept_link.cloud_provider': 'AWS', 'project_dept_link.project_name': 'log-archive', 'project_dept_link.capitalised': 'No', 'project_dept_link.stopped': 'Yes', 'project_dept_link.customer_name': 'CEC', 'project_dept_link.department': 'CEC', 'project_dept_link.sub_department': 'CEC', 'project_dept_link.cost_centre': '2002193029', 'project_dept_link.budget_owner': None, 'project_dept_link.finance_contact': None, 'project_dept_link.executive_owner': None, 'project_dept_link.org': 'testaws.at.sky'}\n",
            "{'project_dept_link.cloud_provider': 'AWS', 'project_dept_link.project_name': 'log-archive', 'project_dept_link.capitalised': 'No', 'project_dept_link.stopped': 'Yes', 'project_dept_link.customer_name': 'CEC', 'project_dept_link.department': 'CEC', 'project_dept_link.sub_department': 'CEC', 'project_dept_link.cost_centre': '1234561234nd', 'project_dept_link.budget_owner': None, 'project_dept_link.finance_contact': None, 'project_dept_link.executive_owner': None, 'project_dept_link.org': 'testaws.at.sky'}\n",
            "{'project_dept_link.cloud_provider': 'AWS', 'project_dept_link.project_name': 'log-archive', 'project_dept_link.capitalised': 'No', 'project_dept_link.stopped': 'Yes', 'project_dept_link.customer_name': 'CEC', 'project_dept_link.department': 'CEC', 'project_dept_link.sub_department': 'CEC', 'project_dept_link.cost_centre': '2002193029', 'project_dept_link.budget_owner': 'DL-SkyAWSLogging@sky.uk', 'project_dept_link.finance_contact': None, 'project_dept_link.executive_owner': None, 'project_dept_link.org': 'aws.at.sky'}\n",
            "{'project_dept_link.cloud_provider': 'AWS', 'project_dept_link.project_name': 'log-archive', 'project_dept_link.capitalised': 'No', 'project_dept_link.stopped': 'No', 'project_dept_link.customer_name': 'CEC', 'project_dept_link.department': 'CEC', 'project_dept_link.sub_department': 'CEC', 'project_dept_link.cost_centre': None, 'project_dept_link.budget_owner': None, 'project_dept_link.finance_contact': None, 'project_dept_link.executive_owner': None, 'project_dept_link.org': 'aws.at.sky'}\n",
            "{'project_dept_link.cloud_provider': 'AWS', 'project_dept_link.project_name': 'log-archive', 'project_dept_link.capitalised': 'No', 'project_dept_link.stopped': 'Yes', 'project_dept_link.customer_name': 'CEC', 'project_dept_link.department': 'CEC', 'project_dept_link.sub_department': 'CEC', 'project_dept_link.cost_centre': '2002730036', 'project_dept_link.budget_owner': 'DL-CEC-SkyTestAWSLogging@sky.uk', 'project_dept_link.finance_contact': None, 'project_dept_link.executive_owner': None, 'project_dept_link.org': 'testaws.at.sky'}\n",
            "{'project_dept_link.cloud_provider': 'AWS', 'project_dept_link.project_name': 'log-archive', 'project_dept_link.capitalised': 'No', 'project_dept_link.stopped': 'Yes', 'project_dept_link.customer_name': 'CEC', 'project_dept_link.department': 'CEC', 'project_dept_link.sub_department': 'CEC', 'project_dept_link.cost_centre': '2002193029', 'project_dept_link.budget_owner': None, 'project_dept_link.finance_contact': None, 'project_dept_link.executive_owner': None, 'project_dept_link.org': 'aws.at.sky'}\n",
            "{'project_dept_link.cloud_provider': 'AWS', 'project_dept_link.project_name': 'sky-cms-dev', 'project_dept_link.capitalised': 'No', 'project_dept_link.stopped': 'Yes', 'project_dept_link.customer_name': 'DTA', 'project_dept_link.department': 'DTA', 'project_dept_link.sub_department': 'DTA', 'project_dept_link.cost_centre': '5001815802', 'project_dept_link.budget_owner': 'giambattista.cerri@skytv.it', 'project_dept_link.finance_contact': None, 'project_dept_link.executive_owner': None, 'project_dept_link.org': 'aws.at.sky'}\n",
            "{'project_dept_link.cloud_provider': 'AWS', 'project_dept_link.project_name': 'test.sky.eu', 'project_dept_link.capitalised': 'No', 'project_dept_link.stopped': 'Yes', 'project_dept_link.customer_name': 'CEC', 'project_dept_link.department': 'CEC', 'project_dept_link.sub_department': 'CEC', 'project_dept_link.cost_centre': '2002193029', 'project_dept_link.budget_owner': None, 'project_dept_link.finance_contact': None, 'project_dept_link.executive_owner': None, 'project_dept_link.org': 'testaws.at.sky'}\n",
            "{'project_dept_link.cloud_provider': 'AWS', 'project_dept_link.project_name': 'test.sky.eu', 'project_dept_link.capitalised': 'No', 'project_dept_link.stopped': 'Yes', 'project_dept_link.customer_name': 'CEC', 'project_dept_link.department': 'CEC', 'project_dept_link.sub_department': 'CEC', 'project_dept_link.cost_centre': '1234561234nd', 'project_dept_link.budget_owner': None, 'project_dept_link.finance_contact': None, 'project_dept_link.executive_owner': None, 'project_dept_link.org': 'testaws.at.sky'}\n",
            "{'project_dept_link.cloud_provider': 'AWS', 'project_dept_link.project_name': 'uk-cec-dev1', 'project_dept_link.capitalised': 'No', 'project_dept_link.stopped': 'Yes', 'project_dept_link.customer_name': 'CEC', 'project_dept_link.department': 'CEC', 'project_dept_link.sub_department': 'CEC', 'project_dept_link.cost_centre': '2002193029', 'project_dept_link.budget_owner': None, 'project_dept_link.finance_contact': None, 'project_dept_link.executive_owner': None, 'project_dept_link.org': 'aws.at.sky'}\n",
            "{'project_dept_link.cloud_provider': 'AWS', 'project_dept_link.project_name': 'uk-cec-dev1', 'project_dept_link.capitalised': 'No', 'project_dept_link.stopped': 'Yes', 'project_dept_link.customer_name': 'CEC', 'project_dept_link.department': 'CEC', 'project_dept_link.sub_department': 'CEC', 'project_dept_link.cost_centre': '2002193029', 'project_dept_link.budget_owner': 'DL-Aws-Cec-Dev-1@sky.uk', 'project_dept_link.finance_contact': None, 'project_dept_link.executive_owner': None, 'project_dept_link.org': 'aws.at.sky'}\n",
            "{'project_dept_link.cloud_provider': 'AWS', 'project_dept_link.project_name': 'uk-cec-dev2', 'project_dept_link.capitalised': 'No', 'project_dept_link.stopped': 'Yes', 'project_dept_link.customer_name': 'CEC', 'project_dept_link.department': 'CEC', 'project_dept_link.sub_department': 'CEC', 'project_dept_link.cost_centre': '2002193029', 'project_dept_link.budget_owner': 'DL-Aws-Cec-Dev-2@sky.uk', 'project_dept_link.finance_contact': None, 'project_dept_link.executive_owner': None, 'project_dept_link.org': 'aws.at.sky'}\n",
            "{'project_dept_link.cloud_provider': 'AWS', 'project_dept_link.project_name': 'uk-cec-dev2', 'project_dept_link.capitalised': 'No', 'project_dept_link.stopped': 'Yes', 'project_dept_link.customer_name': 'CEC', 'project_dept_link.department': 'CEC', 'project_dept_link.sub_department': 'CEC', 'project_dept_link.cost_centre': '2002193029', 'project_dept_link.budget_owner': None, 'project_dept_link.finance_contact': None, 'project_dept_link.executive_owner': None, 'project_dept_link.org': 'aws.at.sky'}\n",
            "{'project_dept_link.cloud_provider': 'AWS', 'project_dept_link.project_name': 'uk-cec-test', 'project_dept_link.capitalised': 'No', 'project_dept_link.stopped': 'Yes', 'project_dept_link.customer_name': 'CEC', 'project_dept_link.department': 'CEC', 'project_dept_link.sub_department': 'CEC', 'project_dept_link.cost_centre': '2002193029', 'project_dept_link.budget_owner': 'cec-test-aws@sky.uk', 'project_dept_link.finance_contact': None, 'project_dept_link.executive_owner': None, 'project_dept_link.org': 'aws.at.sky'}\n",
            "{'project_dept_link.cloud_provider': 'AWS', 'project_dept_link.project_name': 'uk-cec-test', 'project_dept_link.capitalised': 'No', 'project_dept_link.stopped': 'Yes', 'project_dept_link.customer_name': 'CEC', 'project_dept_link.department': 'CEC', 'project_dept_link.sub_department': 'CEC', 'project_dept_link.cost_centre': '2002193029', 'project_dept_link.budget_owner': None, 'project_dept_link.finance_contact': None, 'project_dept_link.executive_owner': None, 'project_dept_link.org': 'aws.at.sky'}\n",
            "{'project_dept_link.cloud_provider': 'AWS', 'project_dept_link.project_name': 'uk-neos-dev', 'project_dept_link.capitalised': 'Yes', 'project_dept_link.stopped': 'Yes', 'project_dept_link.customer_name': 'NEOS', 'project_dept_link.department': 'NEOS', 'project_dept_link.sub_department': 'NEOS', 'project_dept_link.cost_centre': '2200000008', 'project_dept_link.budget_owner': 'dev-env-admin@neos.co.uk', 'project_dept_link.finance_contact': None, 'project_dept_link.executive_owner': None, 'project_dept_link.org': 'aws.at.sky'}\n",
            "{'project_dept_link.cloud_provider': 'AWS', 'project_dept_link.project_name': 'SkyDe-STBDEV', 'project_dept_link.capitalised': 'No', 'project_dept_link.stopped': 'Yes', 'project_dept_link.customer_name': 'Sky DE', 'project_dept_link.department': 'Sky DE', 'project_dept_link.sub_department': 'Sky DE', 'project_dept_link.cost_centre': '5648011565', 'project_dept_link.budget_owner': 'DL-DE-stbdev-aws-acc@sky.de', 'project_dept_link.finance_contact': None, 'project_dept_link.executive_owner': None, 'project_dept_link.org': 'Sky Germany'}\n",
            "{'project_dept_link.cloud_provider': 'AWS', 'project_dept_link.project_name': 'SkyDe-STBDEV', 'project_dept_link.capitalised': 'No', 'project_dept_link.stopped': 'Yes', 'project_dept_link.customer_name': 'Sky DE', 'project_dept_link.department': 'Sky DE', 'project_dept_link.sub_department': 'Sky DE', 'project_dept_link.cost_centre': None, 'project_dept_link.budget_owner': None, 'project_dept_link.finance_contact': None, 'project_dept_link.executive_owner': None, 'project_dept_link.org': 'Sky Germany'}\n",
            "{'project_dept_link.cloud_provider': 'AWS', 'project_dept_link.project_name': 'SkyDe-STBDEV', 'project_dept_link.capitalised': 'No', 'project_dept_link.stopped': 'Yes', 'project_dept_link.customer_name': 'Sky DE', 'project_dept_link.department': 'Sky DE', 'project_dept_link.sub_department': 'Sky DE', 'project_dept_link.cost_centre': '5648011565', 'project_dept_link.budget_owner': None, 'project_dept_link.finance_contact': None, 'project_dept_link.executive_owner': None, 'project_dept_link.org': 'Sky Germany'}\n",
            "{'project_dept_link.cloud_provider': 'AWS', 'project_dept_link.project_name': 'sky-cms-prod', 'project_dept_link.capitalised': 'No', 'project_dept_link.stopped': 'Yes', 'project_dept_link.customer_name': 'DTA', 'project_dept_link.department': 'DTA', 'project_dept_link.sub_department': 'DTA', 'project_dept_link.cost_centre': '5001815802', 'project_dept_link.budget_owner': 'giambattista.cerri@skytv.it', 'project_dept_link.finance_contact': None, 'project_dept_link.executive_owner': None, 'project_dept_link.org': 'aws.at.sky'}\n",
            "{'project_dept_link.cloud_provider': 'AWS', 'project_dept_link.project_name': 'sky-cms-test', 'project_dept_link.capitalised': 'No', 'project_dept_link.stopped': 'Yes', 'project_dept_link.customer_name': 'DTA', 'project_dept_link.department': 'DTA', 'project_dept_link.sub_department': 'DTA', 'project_dept_link.cost_centre': '5001815802', 'project_dept_link.budget_owner': 'aws.cms.test@service.skytv.it', 'project_dept_link.finance_contact': None, 'project_dept_link.executive_owner': None, 'project_dept_link.org': 'aws.at.sky'}\n",
            "{'project_dept_link.cloud_provider': 'AWS', 'project_dept_link.project_name': 'sky-cms-test', 'project_dept_link.capitalised': 'No', 'project_dept_link.stopped': 'Yes', 'project_dept_link.customer_name': 'DTA', 'project_dept_link.department': 'DTA', 'project_dept_link.sub_department': 'DTA', 'project_dept_link.cost_centre': '5001815802', 'project_dept_link.budget_owner': 'giambattista.cerri@skytv.it', 'project_dept_link.finance_contact': None, 'project_dept_link.executive_owner': None, 'project_dept_link.org': 'aws.at.sky'}\n",
            "{'project_dept_link.cloud_provider': 'AWS', 'project_dept_link.project_name': 'uk-cd-vso-dr', 'project_dept_link.capitalised': 'No', 'project_dept_link.stopped': 'Yes', 'project_dept_link.customer_name': 'CD', 'project_dept_link.department': 'CD', 'project_dept_link.sub_department': 'CD', 'project_dept_link.cost_centre': '2002720076', 'project_dept_link.budget_owner': 'uk-gcd-vsodr-prod@sky.uk', 'project_dept_link.finance_contact': None, 'project_dept_link.executive_owner': None, 'project_dept_link.org': 'aws.at.sky'}\n",
            "{'project_dept_link.cloud_provider': 'AWS', 'project_dept_link.project_name': 'uk-cd-vso-dr', 'project_dept_link.capitalised': 'No', 'project_dept_link.stopped': 'Yes', 'project_dept_link.customer_name': 'CD', 'project_dept_link.department': 'CD', 'project_dept_link.sub_department': 'CD', 'project_dept_link.cost_centre': '2002720076', 'project_dept_link.budget_owner': None, 'project_dept_link.finance_contact': None, 'project_dept_link.executive_owner': None, 'project_dept_link.org': 'aws.at.sky'}\n",
            "{'project_dept_link.cloud_provider': 'AWS', 'project_dept_link.project_name': 'Uk-citrix-poc', 'project_dept_link.capitalised': 'No', 'project_dept_link.stopped': 'No', 'project_dept_link.customer_name': 'CEC', 'project_dept_link.department': 'CEC', 'project_dept_link.sub_department': 'CEC', 'project_dept_link.cost_centre': '2002193029', 'project_dept_link.budget_owner': None, 'project_dept_link.finance_contact': None, 'project_dept_link.executive_owner': None, 'project_dept_link.org': 'aws.at.sky'}\n",
            "{'project_dept_link.cloud_provider': 'AWS', 'project_dept_link.project_name': 'de-cgi-nc-dev', 'project_dept_link.capitalised': 'No', 'project_dept_link.stopped': 'Yes', 'project_dept_link.customer_name': 'Sky DE', 'project_dept_link.department': 'DE SKY SYSTEMS', 'project_dept_link.sub_department': 'Sky DE', 'project_dept_link.cost_centre': '5648011530', 'project_dept_link.budget_owner': 'DL-DE-cgi-aws-acc@sky.de', 'project_dept_link.finance_contact': None, 'project_dept_link.executive_owner': None, 'project_dept_link.org': 'aws.at.sky'}\n",
            "{'project_dept_link.cloud_provider': 'AWS', 'project_dept_link.project_name': 'it-cd-vso-dev', 'project_dept_link.capitalised': 'No', 'project_dept_link.stopped': 'Yes', 'project_dept_link.customer_name': 'CD', 'project_dept_link.department': 'CD', 'project_dept_link.sub_department': 'CD', 'project_dept_link.cost_centre': '5001825302', 'project_dept_link.budget_owner': 'aws-cec-a-generic-121@sky.uk', 'project_dept_link.finance_contact': None, 'project_dept_link.executive_owner': None, 'project_dept_link.org': 'aws.at.sky'}\n",
            "{'project_dept_link.cloud_provider': 'AWS', 'project_dept_link.project_name': 'sky-cms-stage', 'project_dept_link.capitalised': 'No', 'project_dept_link.stopped': 'Yes', 'project_dept_link.customer_name': 'DTA', 'project_dept_link.department': 'DTA', 'project_dept_link.sub_department': 'DTA', 'project_dept_link.cost_centre': '5001815802', 'project_dept_link.budget_owner': 'aws.cms.stage@service.skytv.it', 'project_dept_link.finance_contact': None, 'project_dept_link.executive_owner': None, 'project_dept_link.org': 'aws.at.sky'}\n",
            "{'project_dept_link.cloud_provider': 'AWS', 'project_dept_link.project_name': 'sky-cms-stage', 'project_dept_link.capitalised': 'No', 'project_dept_link.stopped': 'Yes', 'project_dept_link.customer_name': 'DTA', 'project_dept_link.department': 'DTA', 'project_dept_link.sub_department': 'DTA', 'project_dept_link.cost_centre': '5001815802', 'project_dept_link.budget_owner': 'giambattista.cerri@skytv.it', 'project_dept_link.finance_contact': None, 'project_dept_link.executive_owner': None, 'project_dept_link.org': 'aws.at.sky'}\n",
            "{'project_dept_link.cloud_provider': 'AWS', 'project_dept_link.project_name': 'uk-cec-p2p-dr', 'project_dept_link.capitalised': 'No', 'project_dept_link.stopped': 'Yes', 'project_dept_link.customer_name': 'CEC', 'project_dept_link.department': 'CEC', 'project_dept_link.sub_department': 'CEC', 'project_dept_link.cost_centre': '2002193029', 'project_dept_link.budget_owner': 'aws-cec-a-generic-70@sky.uk', 'project_dept_link.finance_contact': None, 'project_dept_link.executive_owner': None, 'project_dept_link.org': 'aws.at.sky'}\n",
            "{'project_dept_link.cloud_provider': 'AWS', 'project_dept_link.project_name': 'uk-neos-stage', 'project_dept_link.capitalised': 'Yes', 'project_dept_link.stopped': 'Yes', 'project_dept_link.customer_name': 'NEOS', 'project_dept_link.department': 'Neos', 'project_dept_link.sub_department': 'Neos', 'project_dept_link.cost_centre': None, 'project_dept_link.budget_owner': None, 'project_dept_link.finance_contact': None, 'project_dept_link.executive_owner': None, 'project_dept_link.org': 'aws.at.sky'}\n",
            "{'project_dept_link.cloud_provider': 'AWS', 'project_dept_link.project_name': 'de-cd-vso-prod', 'project_dept_link.capitalised': 'No', 'project_dept_link.stopped': 'Yes', 'project_dept_link.customer_name': 'CD', 'project_dept_link.department': 'CD', 'project_dept_link.sub_department': 'CD', 'project_dept_link.cost_centre': '5648011661', 'project_dept_link.budget_owner': 'aws-cec-a-generic-116@sky.uk', 'project_dept_link.finance_contact': None, 'project_dept_link.executive_owner': None, 'project_dept_link.org': 'aws.at.sky'}\n",
            "{'project_dept_link.cloud_provider': 'AWS', 'project_dept_link.project_name': 'gtvd-ceng-base', 'project_dept_link.capitalised': 'Yes', 'project_dept_link.stopped': 'Yes', 'project_dept_link.customer_name': 'GOTTP', 'project_dept_link.department': 'Cloud Eng Platform', 'project_dept_link.sub_department': 'GOTTP', 'project_dept_link.cost_centre': '2008920142', 'project_dept_link.budget_owner': None, 'project_dept_link.finance_contact': None, 'project_dept_link.executive_owner': None, 'project_dept_link.org': 'aws.at.sky'}\n",
            "{'project_dept_link.cloud_provider': 'AWS', 'project_dept_link.project_name': 'gtvd-ceng-base', 'project_dept_link.capitalised': 'Yes', 'project_dept_link.stopped': 'Yes', 'project_dept_link.customer_name': 'GOTTP', 'project_dept_link.department': 'Cloud Eng Platform', 'project_dept_link.sub_department': 'GOTTP', 'project_dept_link.cost_centre': '2008340356', 'project_dept_link.budget_owner': None, 'project_dept_link.finance_contact': None, 'project_dept_link.executive_owner': None, 'project_dept_link.org': 'aws.at.sky'}\n",
            "{'project_dept_link.cloud_provider': 'AWS', 'project_dept_link.project_name': 'ie-isp-dns-dev', 'project_dept_link.capitalised': 'No', 'project_dept_link.stopped': 'Yes', 'project_dept_link.customer_name': 'ISP', 'project_dept_link.department': 'ISP', 'project_dept_link.sub_department': 'ISP', 'project_dept_link.cost_centre': '3001183202', 'project_dept_link.budget_owner': 'aws-cec-a-generic-164@sky.uk', 'project_dept_link.finance_contact': None, 'project_dept_link.executive_owner': None, 'project_dept_link.org': 'aws.at.sky'}\n",
            "{'project_dept_link.cloud_provider': 'AWS', 'project_dept_link.project_name': 'ie-isp-fus-dev', 'project_dept_link.capitalised': 'Yes', 'project_dept_link.stopped': 'Yes', 'project_dept_link.customer_name': 'ISP', 'project_dept_link.department': 'ISP', 'project_dept_link.sub_department': 'ISP', 'project_dept_link.cost_centre': '3001183202', 'project_dept_link.budget_owner': 'aws-cec-a-generic-78@sky.uk', 'project_dept_link.finance_contact': None, 'project_dept_link.executive_owner': None, 'project_dept_link.org': 'aws.at.sky'}\n",
            "{'project_dept_link.cloud_provider': 'AWS', 'project_dept_link.project_name': 'ie-isp-nm-prod', 'project_dept_link.capitalised': 'No', 'project_dept_link.stopped': 'Yes', 'project_dept_link.customer_name': 'ISP', 'project_dept_link.department': 'ISP', 'project_dept_link.sub_department': 'ISP', 'project_dept_link.cost_centre': '3001183202', 'project_dept_link.budget_owner': 'aws-cec-a-generic-156@sky.uk', 'project_dept_link.finance_contact': None, 'project_dept_link.executive_owner': None, 'project_dept_link.org': 'aws.at.sky'}\n",
            "{'project_dept_link.cloud_provider': 'AWS', 'project_dept_link.project_name': 'ie-isp-ntp-dev', 'project_dept_link.capitalised': 'No', 'project_dept_link.stopped': 'Yes', 'project_dept_link.customer_name': 'ISP', 'project_dept_link.department': 'ISP', 'project_dept_link.sub_department': 'ISP', 'project_dept_link.cost_centre': '3001183202', 'project_dept_link.budget_owner': 'aws-cec-a-generic-165@sky.uk', 'project_dept_link.finance_contact': None, 'project_dept_link.executive_owner': None, 'project_dept_link.org': 'aws.at.sky'}\n",
            "{'project_dept_link.cloud_provider': 'AWS', 'project_dept_link.project_name': 'it-cd-vso-prod', 'project_dept_link.capitalised': 'No', 'project_dept_link.stopped': 'Yes', 'project_dept_link.customer_name': 'CD', 'project_dept_link.department': 'CD', 'project_dept_link.sub_department': 'CD', 'project_dept_link.cost_centre': '5001825302', 'project_dept_link.budget_owner': 'aws-cec-a-generic-119@sky.uk', 'project_dept_link.finance_contact': None, 'project_dept_link.executive_owner': None, 'project_dept_link.org': 'aws.at.sky'}\n",
            "{'project_dept_link.cloud_provider': 'AWS', 'project_dept_link.project_name': 'testaws.at.sky', 'project_dept_link.capitalised': 'No', 'project_dept_link.stopped': 'Yes', 'project_dept_link.customer_name': 'CEC', 'project_dept_link.department': 'CEC', 'project_dept_link.sub_department': 'CEC', 'project_dept_link.cost_centre': '2002193029', 'project_dept_link.budget_owner': None, 'project_dept_link.finance_contact': None, 'project_dept_link.executive_owner': None, 'project_dept_link.org': 'testaws.at.sky'}\n",
            "{'project_dept_link.cloud_provider': 'AWS', 'project_dept_link.project_name': 'testaws.at.sky', 'project_dept_link.capitalised': 'No', 'project_dept_link.stopped': 'Yes', 'project_dept_link.customer_name': 'CEC', 'project_dept_link.department': 'CEC', 'project_dept_link.sub_department': 'CEC', 'project_dept_link.cost_centre': '2002193029', 'project_dept_link.budget_owner': 'DL-CEC-SkyTestAWSMasterPayer@sky.uk', 'project_dept_link.finance_contact': None, 'project_dept_link.executive_owner': None, 'project_dept_link.org': 'testaws.at.sky'}\n",
            "{'project_dept_link.cloud_provider': 'AWS', 'project_dept_link.project_name': 'testaws.at.sky', 'project_dept_link.capitalised': 'No', 'project_dept_link.stopped': 'Yes', 'project_dept_link.customer_name': 'CEC', 'project_dept_link.department': 'CEC', 'project_dept_link.sub_department': 'CEC', 'project_dept_link.cost_centre': '2002730036', 'project_dept_link.budget_owner': 'DL-CEC-SkyTestAWSMasterPayer@sky.uk', 'project_dept_link.finance_contact': None, 'project_dept_link.executive_owner': None, 'project_dept_link.org': 'testaws.at.sky'}\n",
            "{'project_dept_link.cloud_provider': 'AWS', 'project_dept_link.project_name': 'uk-cec-p2p-dev', 'project_dept_link.capitalised': 'No', 'project_dept_link.stopped': 'Yes', 'project_dept_link.customer_name': 'CEC', 'project_dept_link.department': 'CEC', 'project_dept_link.sub_department': 'CEC', 'project_dept_link.cost_centre': '2002193029', 'project_dept_link.budget_owner': 'aws-cec-a-generic-71@sky.uk', 'project_dept_link.finance_contact': None, 'project_dept_link.executive_owner': None, 'project_dept_link.org': 'aws.at.sky'}\n",
            "{'project_dept_link.cloud_provider': 'AWS', 'project_dept_link.project_name': 'uk-cti-mt-prod', 'project_dept_link.capitalised': 'No', 'project_dept_link.stopped': 'Yes', 'project_dept_link.customer_name': 'CTI', 'project_dept_link.department': 'ADTECH', 'project_dept_link.sub_department': 'ADTECH', 'project_dept_link.cost_centre': '2000235044', 'project_dept_link.budget_owner': 'dl-aws-adtech-mt-prod@sky.uk', 'project_dept_link.finance_contact': None, 'project_dept_link.executive_owner': None, 'project_dept_link.org': 'aws.at.sky'}\n",
            "{'project_dept_link.cloud_provider': 'AWS', 'project_dept_link.project_name': 'uk-cti-mt-prod', 'project_dept_link.capitalised': 'No', 'project_dept_link.stopped': 'Yes', 'project_dept_link.customer_name': 'CTI', 'project_dept_link.department': 'AD TECH', 'project_dept_link.sub_department': 'PRODUCT - MEDIATAILOR', 'project_dept_link.cost_centre': '2000235044', 'project_dept_link.budget_owner': 'dl-aws-adtech-mt-prod@sky.uk', 'project_dept_link.finance_contact': None, 'project_dept_link.executive_owner': None, 'project_dept_link.org': 'aws.at.sky'}\n",
            "{'project_dept_link.cloud_provider': 'AWS', 'project_dept_link.project_name': 'uk-cti-mt-prod', 'project_dept_link.capitalised': 'No', 'project_dept_link.stopped': 'Yes', 'project_dept_link.customer_name': 'CTI', 'project_dept_link.department': 'ADTECH', 'project_dept_link.sub_department': 'ADTECH', 'project_dept_link.cost_centre': '2000235044', 'project_dept_link.budget_owner': None, 'project_dept_link.finance_contact': None, 'project_dept_link.executive_owner': None, 'project_dept_link.org': 'aws.at.sky'}\n",
            "{'project_dept_link.cloud_provider': 'AWS', 'project_dept_link.project_name': 'uk-cti-mt-prod', 'project_dept_link.capitalised': 'No', 'project_dept_link.stopped': 'Yes', 'project_dept_link.customer_name': 'CTI', 'project_dept_link.department': 'ADTECH', 'project_dept_link.sub_department': 'ADTECH', 'project_dept_link.cost_centre': '2008920156', 'project_dept_link.budget_owner': 'dl-aws-adtech-mt-prod@sky.uk', 'project_dept_link.finance_contact': None, 'project_dept_link.executive_owner': None, 'project_dept_link.org': 'aws.at.sky'}\n",
            "{'project_dept_link.cloud_provider': 'AWS', 'project_dept_link.project_name': 'uk-gtv-aws-poc', 'project_dept_link.capitalised': 'No', 'project_dept_link.stopped': 'No', 'project_dept_link.customer_name': 'CTI', 'project_dept_link.department': 'CTI', 'project_dept_link.sub_department': 'CTI', 'project_dept_link.cost_centre': None, 'project_dept_link.budget_owner': None, 'project_dept_link.finance_contact': None, 'project_dept_link.executive_owner': None, 'project_dept_link.org': 'aws.at.sky'}\n",
            "{'project_dept_link.cloud_provider': 'AWS', 'project_dept_link.project_name': 'uk-gtv-cpp-dev', 'project_dept_link.capitalised': 'Yes', 'project_dept_link.stopped': 'Yes', 'project_dept_link.customer_name': 'CTI', 'project_dept_link.department': 'CONTENT PROTECTION', 'project_dept_link.sub_department': 'CONTENT PROTECTION', 'project_dept_link.cost_centre': '2000920250', 'project_dept_link.budget_owner': 'DL-CPP-AWS-Dev@sky.uk', 'project_dept_link.finance_contact': None, 'project_dept_link.executive_owner': None, 'project_dept_link.org': 'aws.at.sky'}\n",
            "{'project_dept_link.cloud_provider': 'AWS', 'project_dept_link.project_name': 'uk-gtv-cpp-dev', 'project_dept_link.capitalised': 'Yes', 'project_dept_link.stopped': 'Yes', 'project_dept_link.customer_name': 'CTI', 'project_dept_link.department': 'CPP', 'project_dept_link.sub_department': 'CONTENT PROTECTION', 'project_dept_link.cost_centre': '2000920250', 'project_dept_link.budget_owner': None, 'project_dept_link.finance_contact': None, 'project_dept_link.executive_owner': None, 'project_dept_link.org': 'aws.at.sky'}\n",
            "{'project_dept_link.cloud_provider': 'AWS', 'project_dept_link.project_name': 'uk-gtv-cpp-dev', 'project_dept_link.capitalised': 'Yes', 'project_dept_link.stopped': 'Yes', 'project_dept_link.customer_name': 'CTI', 'project_dept_link.department': 'CONTENT PROTECTION', 'project_dept_link.sub_department': 'CONTENT PROTECTION', 'project_dept_link.cost_centre': '2000920250', 'project_dept_link.budget_owner': None, 'project_dept_link.finance_contact': None, 'project_dept_link.executive_owner': None, 'project_dept_link.org': 'aws.at.sky'}\n",
            "{'project_dept_link.cloud_provider': 'AWS', 'project_dept_link.project_name': 'uk-isp-fus-dev', 'project_dept_link.capitalised': 'No', 'project_dept_link.stopped': 'Yes', 'project_dept_link.customer_name': 'ISP', 'project_dept_link.department': 'ISP', 'project_dept_link.sub_department': 'ISP', 'project_dept_link.cost_centre': '2002730006', 'project_dept_link.budget_owner': 'aws-cec-a-generic-292@sky.uk', 'project_dept_link.finance_contact': None, 'project_dept_link.executive_owner': None, 'project_dept_link.org': 'aws.at.sky'}\n",
            "{'project_dept_link.cloud_provider': 'AWS', 'project_dept_link.project_name': 'uk-isp-nm-prod', 'project_dept_link.capitalised': 'No', 'project_dept_link.stopped': 'Yes', 'project_dept_link.customer_name': 'ISP', 'project_dept_link.department': 'ISP', 'project_dept_link.sub_department': 'ISP', 'project_dept_link.cost_centre': '3001183202', 'project_dept_link.budget_owner': 'aws-cec-a-generic-155@sky.uk', 'project_dept_link.finance_contact': None, 'project_dept_link.executive_owner': None, 'project_dept_link.org': 'aws.at.sky'}\n",
            "{'project_dept_link.cloud_provider': 'AWS', 'project_dept_link.project_name': 'uk-isp-nm-prod', 'project_dept_link.capitalised': 'No', 'project_dept_link.stopped': 'Yes', 'project_dept_link.customer_name': 'ISP', 'project_dept_link.department': 'ISP', 'project_dept_link.sub_department': 'ISP', 'project_dept_link.cost_centre': '2002730006', 'project_dept_link.budget_owner': 'aws-cec-a-generic-155@sky.uk', 'project_dept_link.finance_contact': None, 'project_dept_link.executive_owner': None, 'project_dept_link.org': 'aws.at.sky'}\n",
            "{'project_dept_link.cloud_provider': 'AWS', 'project_dept_link.project_name': 'sky-cms-prod', 'project_dept_link.capitalised': 'No', 'project_dept_link.stopped': 'Yes', 'project_dept_link.customer_name': 'DTA', 'project_dept_link.department': 'DTA', 'project_dept_link.sub_department': 'DTA', 'project_dept_link.cost_centre': '5001815802', 'project_dept_link.budget_owner': 'aws.cms.prod@service.skytv.it', 'project_dept_link.finance_contact': None, 'project_dept_link.executive_owner': None, 'project_dept_link.org': 'aws.at.sky'}\n",
            "{'project_dept_link.cloud_provider': 'AWS', 'project_dept_link.project_name': 'apcawstest', 'project_dept_link.capitalised': 'No', 'project_dept_link.stopped': 'Yes', 'project_dept_link.customer_name': 'CEC', 'project_dept_link.department': 'CEC', 'project_dept_link.sub_department': 'CEC', 'project_dept_link.cost_centre': '2002193029', 'project_dept_link.budget_owner': None, 'project_dept_link.finance_contact': None, 'project_dept_link.executive_owner': None, 'project_dept_link.org': 'aws.at.sky'}\n",
            "{'project_dept_link.cloud_provider': 'AWS', 'project_dept_link.project_name': 'sandbox03', 'project_dept_link.capitalised': 'No', 'project_dept_link.stopped': 'Yes', 'project_dept_link.customer_name': 'CEC', 'project_dept_link.department': 'CEC', 'project_dept_link.sub_department': 'CEC', 'project_dept_link.cost_centre': '2002193029', 'project_dept_link.budget_owner': 'aws.sandbox03.dev@service.skytv.it', 'project_dept_link.finance_contact': None, 'project_dept_link.executive_owner': None, 'project_dept_link.org': 'testaws.at.sky'}\n",
            "{'project_dept_link.cloud_provider': 'AWS', 'project_dept_link.project_name': 'AWS Admin', 'project_dept_link.capitalised': 'No', 'project_dept_link.stopped': 'Yes', 'project_dept_link.customer_name': 'Sky DE', 'project_dept_link.department': 'Sky DE', 'project_dept_link.sub_department': 'Sky DE', 'project_dept_link.cost_centre': None, 'project_dept_link.budget_owner': None, 'project_dept_link.finance_contact': None, 'project_dept_link.executive_owner': None, 'project_dept_link.org': 'Sky Germany'}\n",
            "{'project_dept_link.cloud_provider': 'AWS', 'project_dept_link.project_name': 'security', 'project_dept_link.capitalised': 'Yes', 'project_dept_link.stopped': 'Yes', 'project_dept_link.customer_name': 'CEC', 'project_dept_link.department': 'CEC', 'project_dept_link.sub_department': 'CEC', 'project_dept_link.cost_centre': '2002193029', 'project_dept_link.budget_owner': None, 'project_dept_link.finance_contact': None, 'project_dept_link.executive_owner': None, 'project_dept_link.org': 'testaws.at.sky'}\n",
            "{'project_dept_link.cloud_provider': 'AWS', 'project_dept_link.project_name': 'security', 'project_dept_link.capitalised': 'Yes', 'project_dept_link.stopped': 'Yes', 'project_dept_link.customer_name': 'CEC', 'project_dept_link.department': 'CEC', 'project_dept_link.sub_department': 'CEC', 'project_dept_link.cost_centre': '2002193029', 'project_dept_link.budget_owner': 'DL-CEC-SkyTestAWSSecurity@sky.uk', 'project_dept_link.finance_contact': None, 'project_dept_link.executive_owner': None, 'project_dept_link.org': 'testaws.at.sky'}\n",
            "{'project_dept_link.cloud_provider': 'AWS', 'project_dept_link.project_name': 'security', 'project_dept_link.capitalised': 'Yes', 'project_dept_link.stopped': 'Yes', 'project_dept_link.customer_name': 'CEC', 'project_dept_link.department': 'CEC', 'project_dept_link.sub_department': 'CEC', 'project_dept_link.cost_centre': '2002193029', 'project_dept_link.budget_owner': 'DL-SkyAWSSecurity@sky.uk', 'project_dept_link.finance_contact': None, 'project_dept_link.executive_owner': None, 'project_dept_link.org': 'aws.at.sky'}\n",
            "{'project_dept_link.cloud_provider': 'AWS', 'project_dept_link.project_name': 'de-cd-vso-dev', 'project_dept_link.capitalised': 'No', 'project_dept_link.stopped': 'Yes', 'project_dept_link.customer_name': 'CD', 'project_dept_link.department': 'CD', 'project_dept_link.sub_department': 'CD', 'project_dept_link.cost_centre': '5648011661', 'project_dept_link.budget_owner': 'aws-cec-a-generic-115@sky.uk', 'project_dept_link.finance_contact': None, 'project_dept_link.executive_owner': None, 'project_dept_link.org': 'aws.at.sky'}\n",
            "{'project_dept_link.cloud_provider': 'AWS', 'project_dept_link.project_name': 'deployment', 'project_dept_link.capitalised': 'Yes', 'project_dept_link.stopped': 'Yes', 'project_dept_link.customer_name': 'CEC', 'project_dept_link.department': 'CEC', 'project_dept_link.sub_department': 'CEC', 'project_dept_link.cost_centre': '2002730036', 'project_dept_link.budget_owner': 'DL-CEC-Deployment-Test@Sky.uk', 'project_dept_link.finance_contact': None, 'project_dept_link.executive_owner': None, 'project_dept_link.org': 'testaws.at.sky'}\n",
            "{'project_dept_link.cloud_provider': 'AWS', 'project_dept_link.project_name': 'sandbox04', 'project_dept_link.capitalised': 'No', 'project_dept_link.stopped': 'Yes', 'project_dept_link.customer_name': 'CEC', 'project_dept_link.department': 'CEC', 'project_dept_link.sub_department': 'CEC', 'project_dept_link.cost_centre': '2002193029', 'project_dept_link.budget_owner': 'aws.sandbox04.dev@service.skytv.it', 'project_dept_link.finance_contact': None, 'project_dept_link.executive_owner': None, 'project_dept_link.org': 'testaws.at.sky'}\n",
            "{'project_dept_link.cloud_provider': 'AWS', 'project_dept_link.project_name': 'sandbox01', 'project_dept_link.capitalised': 'Yes', 'project_dept_link.stopped': 'Yes', 'project_dept_link.customer_name': 'CEC', 'project_dept_link.department': 'CEC', 'project_dept_link.sub_department': 'CEC', 'project_dept_link.cost_centre': '2002193029', 'project_dept_link.budget_owner': 'aws.sandbox01.dev@service.skytv.it', 'project_dept_link.finance_contact': None, 'project_dept_link.executive_owner': None, 'project_dept_link.org': 'testaws.at.sky'}\n",
            "{'project_dept_link.cloud_provider': 'AWS', 'project_dept_link.project_name': 'security', 'project_dept_link.capitalised': 'Yes', 'project_dept_link.stopped': 'Yes', 'project_dept_link.customer_name': 'CEC', 'project_dept_link.department': 'CEC', 'project_dept_link.sub_department': 'CEC', 'project_dept_link.cost_centre': '2002730036', 'project_dept_link.budget_owner': 'DL-CEC-SkyTestAWSSecurity@sky.uk', 'project_dept_link.finance_contact': None, 'project_dept_link.executive_owner': None, 'project_dept_link.org': 'testaws.at.sky'}\n",
            "{'project_dept_link.cloud_provider': 'AWS', 'project_dept_link.project_name': 'security', 'project_dept_link.capitalised': 'Yes', 'project_dept_link.stopped': 'No', 'project_dept_link.customer_name': 'CEC', 'project_dept_link.department': 'CEC', 'project_dept_link.sub_department': 'CEC', 'project_dept_link.cost_centre': None, 'project_dept_link.budget_owner': None, 'project_dept_link.finance_contact': None, 'project_dept_link.executive_owner': None, 'project_dept_link.org': 'aws.at.sky'}\n",
            "{'project_dept_link.cloud_provider': 'AWS', 'project_dept_link.project_name': 'security', 'project_dept_link.capitalised': 'Yes', 'project_dept_link.stopped': 'Yes', 'project_dept_link.customer_name': 'CEC', 'project_dept_link.department': 'CEC', 'project_dept_link.sub_department': 'CEC', 'project_dept_link.cost_centre': None, 'project_dept_link.budget_owner': None, 'project_dept_link.finance_contact': None, 'project_dept_link.executive_owner': None, 'project_dept_link.org': 'testaws.at.sky'}\n"
          ]
        }
      ]
    },
    {
      "cell_type": "code",
      "source": [],
      "metadata": {
        "id": "zn4RA6SFz74R"
      },
      "execution_count": null,
      "outputs": []
    }
  ]
}